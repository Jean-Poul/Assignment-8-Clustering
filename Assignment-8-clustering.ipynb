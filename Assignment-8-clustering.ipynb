{
 "cells": [
  {
   "cell_type": "markdown",
   "id": "99ae59fe-ab67-4bdb-8937-55d066eab264",
   "metadata": {},
   "source": [
    "# Assignment 8 Clustering K-Means and DBSCAN"
   ]
  },
  {
   "cell_type": "markdown",
   "id": "c85d85f9-93a1-47b1-9961-5ad7dc840c97",
   "metadata": {},
   "source": [
    "###### 1: Work through the book – build your own K Means cluster function and carry out the modelling done in the book."
   ]
  },
  {
   "cell_type": "code",
   "execution_count": 1,
   "id": "a262d6f1-3ffa-4332-85d4-faf58aa7faf1",
   "metadata": {},
   "outputs": [],
   "source": [
    "# 1 - function that measures how many coordinates two vectors differ in\n",
    "import sys\n",
    "sys.path.insert(1, \"C:\\\\Users\\\\jplm\\\\Desktop\\\\Softwareudvikler\\\\Data science\\\\data-science-from-scratch\")\n",
    "\n",
    "from scratch.linear_algebra import Vector\n",
    "\n",
    "def num_differences(v1: Vector, v2: Vector) -> int:\n",
    "    assert len(v1) == len(v2)\n",
    "    return len([x1 for x1, x2 in zip(v1, v2) if x1 != x2])\n",
    "\n",
    "assert num_differences([1, 2, 3], [2, 1, 3]) == 2\n",
    "assert num_differences([1, 2], [1, 2]) == 0"
   ]
  },
  {
   "cell_type": "code",
   "execution_count": 2,
   "id": "874941b9-f3af-4adb-b6d1-dd0b46516acc",
   "metadata": {},
   "outputs": [],
   "source": [
    "# 2 function that, given some vectors and their assignments to clusters, computes the means of the clusters\n",
    "from typing import List\n",
    "from scratch.linear_algebra import vector_mean\n",
    "\n",
    "def cluster_means(k: int,\n",
    "    inputs: List[Vector],\n",
    "    assignments: List[int]) -> List[Vector]:\n",
    "    \n",
    "    # clusters[i] contains the inputs whose assignment is i\n",
    "    clusters = [[] for i in range(k)]\n",
    "    for input, assignment in zip(inputs, assignments):\n",
    "        clusters[assignment].append(input)\n",
    "        \n",
    "    # if a cluster is empty, just use a random point\n",
    "    return [vector_mean(cluster) if cluster else random.choice(inputs)\n",
    "            for cluster in clusters]\n"
   ]
  },
  {
   "cell_type": "code",
   "execution_count": 3,
   "id": "c90808cf-00ec-4769-847d-7f436fe0ad32",
   "metadata": {},
   "outputs": [],
   "source": [
    "# 3 Code our cluster\n",
    "import itertools\n",
    "import random\n",
    "import tqdm\n",
    "from scratch.linear_algebra import squared_distance\n",
    "\n",
    "class KMeans:\n",
    "    def __init__(self, k: int) -> None:\n",
    "        self.k = k # number of clusters\n",
    "        self.means = None\n",
    "        \n",
    "    def classify(self, input: Vector) -> int:\n",
    "        \"\"\"return the index of the cluster closest to the input\"\"\"\n",
    "        return min(range(self.k),\n",
    "        key=lambda i: squared_distance(input, self.means[i]))\n",
    "\n",
    "    def train(self, inputs: List[Vector]) -> None:\n",
    "        # Start with random assignments\n",
    "        assignments = [random.randrange(self.k) for _ in inputs]\n",
    "    \n",
    "        with tqdm.tqdm(itertools.count()) as t:\n",
    "            for _ in t:\n",
    "                # Compute means and find new assignments\n",
    "                self.means = cluster_means(self.k, inputs, assignments)\n",
    "                new_assignments = [self.classify(input) for input in inputs]\n",
    "        \n",
    "                # Check how many assignments changed and if we're done\n",
    "                num_changed = num_differences(assignments, new_assignments)\n",
    "                if num_changed == 0:\n",
    "                    return\n",
    "        \n",
    "                # Otherwise keep the new assignments, and compute new means\n",
    "                assignments = new_assignments\n",
    "                self.means = cluster_means(self.k, inputs, assignments)\n",
    "                t.set_description(f\"changed: {num_changed} / {len(inputs)}\")"
   ]
  },
  {
   "cell_type": "code",
   "execution_count": 4,
   "id": "2c9a3508-a955-40e6-97cd-d7be40efe4bc",
   "metadata": {},
   "outputs": [],
   "source": [
    "# Inputs\n",
    "inputs: List[List[float]] = [[-14,-5],[13,13],[20,23],[-19,-11],[-9,-16],[21,27],[-49,15],[26,13],[-46,5],[-34,-1],[11,15],[-49,0],[-22,-16],[19,28],[-12,-8],[-13,-19],[-41,8],[-11,-6],[-25,-9],[-18,-3]]"
   ]
  },
  {
   "cell_type": "code",
   "execution_count": 5,
   "id": "ccc92a03-1417-4423-978d-473734057a4f",
   "metadata": {},
   "outputs": [
    {
     "name": "stderr",
     "output_type": "stream",
     "text": [
      "changed: 5 / 20: : 1it [00:00, 500.57it/s]\n"
     ]
    }
   ],
   "source": [
    "# 4 Compute budget for three meetups\n",
    "random.seed(12) # so you get the same results as me\n",
    "clusterer = KMeans(k=3)\n",
    "clusterer.train(inputs)\n",
    "means = sorted(clusterer.means) # sort for the unit test\n",
    "assert len(means) == 3\n",
    "\n",
    "# Check that the means are close to what we expect\n",
    "assert squared_distance(means[0], [-44, 5]) < 1\n",
    "assert squared_distance(means[1], [-16, -10]) < 1\n",
    "assert squared_distance(means[2], [18, 20]) < 1\n"
   ]
  },
  {
   "cell_type": "code",
   "execution_count": 6,
   "id": "ac2bafdd-aa02-4bd0-840d-1dd605a4b7ed",
   "metadata": {},
   "outputs": [
    {
     "name": "stderr",
     "output_type": "stream",
     "text": [
      "changed: 4 / 20: : 2it [00:00, 994.26it/s]\n"
     ]
    }
   ],
   "source": [
    "# 5 Only budget for 2 meetups\n",
    "random.seed(0)\n",
    "clusterer = KMeans(k=2)\n",
    "clusterer.train(inputs)\n",
    "means = sorted(clusterer.means)\n",
    "\n",
    "assert len(means) == 2\n",
    "assert squared_distance(means[0], [-26, -5]) < 1\n",
    "assert squared_distance(means[1], [18, 20]) < 1\n"
   ]
  },
  {
   "cell_type": "markdown",
   "id": "6cec4fc1-cf40-48b5-b481-41f1efdca55a",
   "metadata": {},
   "source": [
    "# Choosing k\n",
    "###### In the previous example, the choice of k was driven by factors outside of our control. In general, this won’t be the case. There are various ways to choose a k. One that’s reasonably easy to understand involves plotting the sum of squared errors (between each point and the mean of its cluster) as a function of k and looking at where the graph “bends”"
   ]
  },
  {
   "cell_type": "code",
   "execution_count": 7,
   "id": "25214488-d16e-47f6-a6e8-3bb004971379",
   "metadata": {},
   "outputs": [],
   "source": [
    "# 1 Sum of squared errors\n",
    "from matplotlib import pyplot as plt\n",
    "\n",
    "def squared_clustering_errors(inputs: List[Vector], k: int) -> float:\n",
    "    \"\"\"finds the total squared error from k-means clustering the inputs\"\"\"\n",
    "    clusterer = KMeans(k)\n",
    "    clusterer.train(inputs)\n",
    "    means = clusterer.means\n",
    "    assignments = [clusterer.classify(input) for input in inputs]\n",
    "    \n",
    "    return sum(squared_distance(input, means[cluster])\n",
    "        for input, cluster in zip(inputs, assignments))\n"
   ]
  },
  {
   "cell_type": "code",
   "execution_count": 8,
   "id": "3579465b-f1ad-44c8-9ae2-c32151a7b663",
   "metadata": {},
   "outputs": [
    {
     "name": "stderr",
     "output_type": "stream",
     "text": [
      "0it [00:00, ?it/s]\n",
      "changed: 8 / 20: : 1it [00:00, 500.10it/s]\n",
      "changed: 2 / 20: : 2it [00:00, 1001.27it/s]\n",
      "changed: 2 / 20: : 2it [00:00, 564.09it/s]\n",
      "changed: 2 / 20: : 4it [00:00, 800.02it/s]\n",
      "changed: 1 / 20: : 3it [00:00, 748.58it/s]\n",
      "changed: 1 / 20: : 5it [00:00, 832.60it/s]\n",
      "changed: 4 / 20: : 2it [00:00, 495.05it/s]\n",
      "changed: 2 / 20: : 3it [00:00, 599.61it/s]\n",
      "changed: 4 / 20: : 3it [00:00, 748.89it/s]\n",
      "changed: 1 / 20: : 3it [00:00, 749.43it/s]\n",
      "changed: 1 / 20: : 3it [00:00, 428.59it/s]\n",
      "changed: 1 / 20: : 3it [00:00, 456.93it/s]\n",
      "changed: 1 / 20: : 3it [00:00, 432.31it/s]\n",
      "changed: 1 / 20: : 4it [00:00, 497.49it/s]\n",
      "changed: 3 / 20: : 3it [00:00, 421.24it/s]\n",
      "changed: 1 / 20: : 4it [00:00, 648.55it/s]\n",
      "changed: 3 / 20: : 3it [00:00, 499.62it/s]\n",
      "changed: 3 / 20: : 3it [00:00, 599.87it/s]\n",
      "changed: 1 / 20: : 5it [00:00, 453.14it/s]\n"
     ]
    },
    {
     "data": {
      "image/png": "[encoded data removed]",
      "text/plain": [
       "<Figure size 432x288 with 1 Axes>"
      ]
     },
     "metadata": {
      "needs_background": "light"
     },
     "output_type": "display_data"
    }
   ],
   "source": [
    "# 2 Applying to to previous example\n",
    "# now plot from 1 up to len(inputs) clusters\n",
    "ks = range(1, len(inputs) + 1)\n",
    "errors = [squared_clustering_errors(inputs, k) for k in ks]\n",
    "\n",
    "plt.plot(ks, errors)\n",
    "plt.xticks(ks)\n",
    "plt.xlabel(\"k\")\n",
    "plt.ylabel(\"total squared error\")\n",
    "plt.title(\"Total Error vs. # of Clusters\")\n",
    "plt.show()"
   ]
  },
  {
   "cell_type": "markdown",
   "id": "daca66c0-2302-499a-bc9a-7b463f9883c3",
   "metadata": {},
   "source": [
    "###### In the book we eyeballed that there were 3 clusters. Here we can see in the elbow method using distortion that this is true."
   ]
  },
  {
   "cell_type": "markdown",
   "id": "0a73e943-82ca-46fc-9f64-8ac34cd50088",
   "metadata": {},
   "source": [
    "# Example: Clustering Colors"
   ]
  },
  {
   "cell_type": "code",
   "execution_count": 11,
   "id": "fcb56526-3187-44ae-8cda-9d1948d9ca70",
   "metadata": {},
   "outputs": [],
   "source": [
    "# 1 Command to be able to import an image into python\n",
    "# python -m pip install pillow\n",
    "\n",
    "image_path = r\"images\\minion.jpg\" # wherever your image is\n",
    "import matplotlib.image as mpimg\n",
    "img = mpimg.imread(image_path) / 256 # rescale to between 0 and 1\n"
   ]
  },
  {
   "cell_type": "markdown",
   "id": "4e0ac45a-8170-4abc-89f6-1e3bee0a35c4",
   "metadata": {},
   "source": [
    "###### img[i][j] is the pixel in the ith row and jth column, and each pixel is a list [red, green, blue] of numbers between 0 and 1 indicating the color of that pixel"
   ]
  },
  {
   "cell_type": "code",
   "execution_count": 12,
   "id": "36a31465-c91e-4846-b07b-156be5c99424",
   "metadata": {},
   "outputs": [
    {
     "name": "stderr",
     "output_type": "stream",
     "text": [
      "changed: 8 / 223020: : 36it [01:30,  2.52s/it]    \n"
     ]
    }
   ],
   "source": [
    "# 2 Getting the pixel colors\n",
    "top_row = img[0]\n",
    "top_left_pixel = top_row[0]\n",
    "red, green, blue = top_left_pixel\n",
    "\n",
    "# .tolist() converts a NumPy array to a Python list\n",
    "pixels = [pixel.tolist() for row in img for pixel in row]\n",
    "\n",
    "# Feed the pixels to the cluster\n",
    "clusterer = KMeans(5)\n",
    "clusterer.train(pixels) # this might take a while\n"
   ]
  },
  {
   "cell_type": "code",
   "execution_count": 13,
   "id": "95c25593-9562-459e-9387-dfeba98e614a",
   "metadata": {},
   "outputs": [],
   "source": [
    "# 3 Construct a new image with the same format with the following function\n",
    "def recolor(pixel: Vector) -> Vector:\n",
    "    cluster = clusterer.classify(pixel) # index of the closest cluster\n",
    "    return clusterer.means[cluster] # mean of the closest cluster\n",
    "\n",
    "new_img = [[recolor(pixel) for pixel in row] # recolor this row of pixels\n",
    "for row in img] # for each row in the image"
   ]
  },
  {
   "cell_type": "code",
   "execution_count": 14,
   "id": "97bb4ade-2746-45dd-9d56-1a868e541e7c",
   "metadata": {},
   "outputs": [
    {
     "data": {
      "image/png": "[encoded data removed]",
      "text/plain": [
       "<Figure size 432x288 with 1 Axes>"
      ]
     },
     "metadata": {
      "needs_background": "light"
     },
     "output_type": "display_data"
    }
   ],
   "source": [
    "# 4 Display the image with plt.imshow\n",
    "plt.imshow(new_img)\n",
    "plt.axis('off')\n",
    "plt.show()\n"
   ]
  },
  {
   "cell_type": "markdown",
   "id": "00e3e03b-c4f2-481a-8d07-cddedf6cef7d",
   "metadata": {},
   "source": [
    "# Bottom-Up Hierarchical Clustering"
   ]
  },
  {
   "cell_type": "markdown",
   "id": "cfa54caa-934e-480a-8ea9-fe18f54132ae",
   "metadata": {},
   "source": [
    "###### An alternative approach to clustering is to “grow” clusters from the bottom up. We can do this in the following way:\n",
    "1. Make each input its own cluster of one.\n",
    "2. As long as there are multiple clusters remaining, find the two closest clusters and merge them."
   ]
  },
  {
   "cell_type": "code",
   "execution_count": 16,
   "id": "52f40631-7f66-4b89-a8d5-d99c677db745",
   "metadata": {},
   "outputs": [],
   "source": [
    "# 1 Simple representation of clusters. The values will live in leaf clusters. Will be represented as NamedTuples\n",
    "from typing import NamedTuple, Union\n",
    "\n",
    "class Leaf(NamedTuple):\n",
    "    value: Vector\n",
    "    \n",
    "leaf1 = Leaf([10, 20])\n",
    "leaf2 = Leaf([30, -15])"
   ]
  },
  {
   "cell_type": "code",
   "execution_count": 17,
   "id": "f504b618-b3f1-438f-8db4-7257500d3933",
   "metadata": {},
   "outputs": [],
   "source": [
    "# 2 Grow merged clusters which also is represented as NamedTuples\n",
    "class Merged(NamedTuple):\n",
    "    children: tuple\n",
    "    order: int\n",
    "    \n",
    "merged = Merged((leaf1, leaf2), order=1)\n",
    "\n",
    "Cluster = Union[Leaf, Merged]"
   ]
  },
  {
   "cell_type": "code",
   "execution_count": 18,
   "id": "7b151348-0fc4-4b4f-983c-1cb540b00728",
   "metadata": {},
   "outputs": [],
   "source": [
    "# 3 Helper function that recursively will return all values contained in a possible (possibly merged) cluster\n",
    "def get_values(cluster: Cluster) -> List[Vector]:\n",
    "    if isinstance(cluster, Leaf):\n",
    "        return [cluster.value]\n",
    "    else:\n",
    "        return [value\n",
    "                for child in cluster.children\n",
    "                for value in get_values(child)]\n",
    "\n",
    "assert get_values(merged) == [[10, 20], [30, -15]]"
   ]
  },
  {
   "cell_type": "code",
   "execution_count": 21,
   "id": "272e42fa-47b5-4b35-b604-7d911efbd3ed",
   "metadata": {},
   "outputs": [],
   "source": [
    "# 4 Merge with the closest cluster.  \n",
    "# Can use the minimum distance or the (will sometimes produce large chain-like clusters that aren’t very tight)\n",
    "# For tight spherical clusters, we might use the maximum distance instead\n",
    "# Both are common choices, as is the average distance\n",
    "from typing import Callable\n",
    "from scratch.linear_algebra import distance\n",
    "\n",
    "def cluster_distance(cluster1: Cluster,\n",
    "                     cluster2: Cluster,\n",
    "                     distance_agg: Callable = min) -> float:\n",
    "    \"\"\"\n",
    "    compute all the pairwise distances between cluster1 and cluster2\n",
    "    and apply the aggregation function _distance_agg_ to the resulting list\n",
    "    \"\"\"\n",
    "    return distance_agg([distance(v1, v2)\n",
    "                         for v1 in get_values(cluster1)\n",
    "                         for v2 in get_values(cluster2)])\n",
    "\n"
   ]
  },
  {
   "cell_type": "markdown",
   "id": "7ff9ac20-425b-4ba6-a1fd-c7c95eb440e6",
   "metadata": {},
   "source": [
    "###### Helper functions for creation of clusters"
   ]
  },
  {
   "cell_type": "code",
   "execution_count": 24,
   "id": "c546bf26-89fc-483a-ab0f-e47227ee94ad",
   "metadata": {},
   "outputs": [],
   "source": [
    "# 5 Helper function\n",
    "# Leaf clusters were never merged, we’ll assign them infinity, the highest possible value. \n",
    "# And since they don’t have an .order property, we’ll create a helper function\n",
    "def get_merge_order(cluster: Cluster) -> float:\n",
    "    if isinstance(cluster, Leaf):\n",
    "        return float('inf') # was never merged\n",
    "    else:\n",
    "        return cluster.order"
   ]
  },
  {
   "cell_type": "code",
   "execution_count": 25,
   "id": "9b973dd5-6005-4314-a94a-037e1367cfdf",
   "metadata": {},
   "outputs": [],
   "source": [
    "# 6 Helper function\n",
    "# Leaf clusters don’t have children, we’ll create and add a helper function for that\n",
    "from typing import Tuple\n",
    "\n",
    "def get_children(cluster: Cluster):\n",
    "    if isinstance(cluster, Leaf):\n",
    "        raise TypeError(\"Leaf has no children\")\n",
    "    else:\n",
    "        return cluster.children"
   ]
  },
  {
   "cell_type": "markdown",
   "id": "442784cd-0cef-428a-88b0-93b329a02449",
   "metadata": {},
   "source": [
    "###### Creating the clustering algorithm"
   ]
  },
  {
   "cell_type": "code",
   "execution_count": 27,
   "id": "d7477882-f24b-4206-b7a6-82bb73a73382",
   "metadata": {},
   "outputs": [],
   "source": [
    "# 7 Clustering bottom-up with the following algorithm \n",
    "def bottom_up_cluster(inputs: List[Vector],\n",
    "                      distance_agg: Callable = min) -> Cluster:\n",
    "    # Start with all leaves\n",
    "    clusters: List[Cluster] = [Leaf(input) for input in inputs]\n",
    "    \n",
    "    def pair_distance(pair: Tuple[Cluster, Cluster]) -> float:\n",
    "        return cluster_distance(pair[0], pair[1], distance_agg)\n",
    "    \n",
    "    # as long as we have more than one cluster left...\n",
    "    while len(clusters) > 1:\n",
    "        # find the two closest clusters\n",
    "        c1, c2 = min(((cluster1, cluster2)\n",
    "                       for i, cluster1 in enumerate(clusters)\n",
    "                       for cluster2 in clusters[:i]),\n",
    "                       key=pair_distance)\n",
    "        \n",
    "        # remove them from the list of clusters\n",
    "        clusters = [c for c in clusters if c != c1 and c != c2]\n",
    "        \n",
    "        # merge them, using merge_order = # of clusters left\n",
    "        merged_cluster = Merged((c1, c2), order=len(clusters))\n",
    "\n",
    "        # and add their merge\n",
    "        clusters.append(merged_cluster)\n",
    "    \n",
    "    # when there's only one cluster left, return it\n",
    "    return clusters[0]\n"
   ]
  },
  {
   "cell_type": "code",
   "execution_count": 29,
   "id": "9668964e-df9f-4354-9e7b-df85af97714f",
   "metadata": {},
   "outputs": [],
   "source": [
    "# 8 Using the algorithm we made\n",
    "base_cluster = bottom_up_cluster(inputs)"
   ]
  },
  {
   "cell_type": "markdown",
   "id": "01f83dea-a593-432c-9a5d-8ea2ec94434b",
   "metadata": {},
   "source": [
    "###### With the 20 inputs we had it took 19 merges to get one big cluster."
   ]
  },
  {
   "cell_type": "code",
   "execution_count": 31,
   "id": "f538c4fa-b423-4659-b7ba-f429f0401caf",
   "metadata": {},
   "outputs": [],
   "source": [
    "# 9 Function that generates any number of clusters by performing the appropriate number of unmerges\n",
    "def generate_clusters(base_cluster: Cluster,\n",
    "                      num_clusters: int) -> List[Cluster]:\n",
    "    # start with a list with just the base cluster\n",
    "    clusters = [base_cluster]\n",
    "    \n",
    "    # as long as we don't have enough clusters yet...\n",
    "    while len(clusters) < num_clusters:\n",
    "        # choose the last-merged of our clusters\n",
    "        next_cluster = min(clusters, key=get_merge_order)\n",
    "        # remove it from the list\n",
    "        clusters = [c for c in clusters if c != next_cluster]\n",
    "        \n",
    "        # and add its children to the list (i.e., unmerge it)\n",
    "        clusters.extend(get_children(next_cluster))\n",
    "        \n",
    "    # once we have enough clusters...\n",
    "    return clusters\n"
   ]
  },
  {
   "cell_type": "code",
   "execution_count": 32,
   "id": "386a13bb-ff44-4b92-984d-9949ee37a30e",
   "metadata": {},
   "outputs": [],
   "source": [
    "# 10 Generating 3 clusters instead of 1 with the following:\n",
    "three_clusters = [get_values(cluster)\n",
    "                  for cluster in generate_clusters(base_cluster, 3)]"
   ]
  },
  {
   "cell_type": "code",
   "execution_count": 36,
   "id": "6d5bab0c-69a1-4456-a2d2-d085161c83b6",
   "metadata": {},
   "outputs": [
    {
     "data": {
      "image/png": "[encoded data removed]",
      "text/plain": [
       "<Figure size 432x288 with 1 Axes>"
      ]
     },
     "metadata": {
      "needs_background": "light"
     },
     "output_type": "display_data"
    }
   ],
   "source": [
    "# 11 Plotting our clusers for visualization purposes\n",
    "# We use a scatterplot since we want to display the \"relationship\" between our values \n",
    "for i, cluster, marker, color in zip([1, 2, 3],\n",
    "                                     three_clusters,\n",
    "                                     ['D','o','*'],\n",
    "                                     ['r','g','b']):\n",
    "    xs, ys = zip(*cluster) # magic unzipping trick\n",
    "    plt.scatter(xs, ys, color=color, marker=marker)\n",
    "    \n",
    "    # put a number at the mean of the cluster\n",
    "    x, y = vector_mean(cluster)\n",
    "    plt.plot(x, y, marker='$' + str(i) + '$', color='black')\n",
    "\n",
    "plt.title(\"User Locations -- 3 Bottom-Up Clusters, Min\")\n",
    "plt.xlabel(\"blocks east of city center\")\n",
    "plt.ylabel(\"blocks north of city center\")\n",
    "plt.show()\n"
   ]
  },
  {
   "cell_type": "markdown",
   "id": "89988f07-7713-40b8-81c0-0ea89a833652",
   "metadata": {},
   "source": [
    "###### This gives a different result when comparing to our k-mean algorithm. This is because we are using the min in cluster_distance which causes chain-like clusters. If we instead had used max it would look like the 3-means result."
   ]
  },
  {
   "cell_type": "markdown",
   "id": "c52b3522-caed-4298-a101-e6946f787464",
   "metadata": {},
   "source": [
    "#### Note:\n",
    "Taken from the book: Data Science from Scratch SECOND EDITION First Principles with Python Joel Grus\n",
    "page 354, chapter 20, clustering.\n",
    "\n",
    "<q>The previous bottom_up_clustering implementation is relatively simple, but also\n",
    "shockingly inefficient. In particular, it recomputes the distance between each pair of\n",
    "inputs at every step. A more efficient implementation might instead precompute the\n",
    "distances between each pair of inputs and then perform a lookup inside\n",
    "cluster_distance. A really efficient implementation would likely also remember the\n",
    "cluster_distances from the previous step.</q>\n"
   ]
  },
  {
   "cell_type": "markdown",
   "id": "d3d64456-340d-4fc2-92d4-60adcaa9fe43",
   "metadata": {},
   "source": [
    "# For Further Exploration\n",
    "- scikit-learn has an entire module, sklearn.cluster, that contains\n",
    "several clustering algorithms including KMeans and the Ward\n",
    "hierarchical clustering algorithm (which uses a different criterion\n",
    "for merging clusters than ours did)."
   ]
  },
  {
   "cell_type": "markdown",
   "id": "16bf91ba-1b2b-4658-9d69-5d9e59890fa2",
   "metadata": {},
   "source": [
    "- SciPy has two clustering models: scipy.cluster.vq, which does\n",
    "k-means, and scipy.cluster.hierarchy, which has a variety of\n",
    "hierarchical clustering algorithms"
   ]
  },
  {
   "cell_type": "code",
   "execution_count": null,
   "id": "e3f91a9f-472f-43ae-b219-e9016ba9b1de",
   "metadata": {},
   "outputs": [],
   "source": []
  }
 ],
 "metadata": {
  "kernelspec": {
   "display_name": "Python 3 (ipykernel)",
   "language": "python",
   "name": "python3"
  },
  "language_info": {
   "codemirror_mode": {
    "name": "ipython",
    "version": 3
   },
   "file_extension": ".py",
   "mimetype": "text/x-python",
   "name": "python",
   "nbconvert_exporter": "python",
   "pygments_lexer": "ipython3",
   "version": "3.9.7"
  }
 },
 "nbformat": 4,
 "nbformat_minor": 5
}
